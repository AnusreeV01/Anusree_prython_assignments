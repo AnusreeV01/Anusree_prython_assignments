{
 "cells": [
  {
   "cell_type": "markdown",
   "id": "9aa5fbc7",
   "metadata": {},
   "source": [
    "1. A school has following rules for grading system:\n",
    "a. Below 25 - F\n",
    "b. 25 to 45 - E\n",
    "c. 45 to 50 - D\n",
    "d. 50 to 60 - C\n",
    "e. 60 to 80 - B\n",
    "f. Above 80 - A\n",
    "Ask user to enter marks and print the corresponding grade.\n"
   ]
  },
  {
   "cell_type": "code",
   "execution_count": 1,
   "id": "0aac129f",
   "metadata": {},
   "outputs": [
    {
     "name": "stdout",
     "output_type": "stream",
     "text": [
      "please enter the mark in 100:85\n",
      "you acquired A grade\n"
     ]
    }
   ],
   "source": [
    "a=int(input(\"please enter the mark in 100:\"))\n",
    "if a>80:\n",
    "    print(\"you acquired A grade\")\n",
    "elif (a<80 and a>60):\n",
    "    print(\"you acquired B grade\")\n",
    "elif (a<60 and a>50):    \n",
    "    print(\"you acquired C grade\")\n",
    "elif (a<50 and a>45):\n",
    "    print(\"you acquired D grade\")\n",
    "elif (a<45 and a>25):    \n",
    "    print(\"you acquired E grade\")\n",
    "elif a<25:\n",
    "     print(\"you acquired F grade\")  "
   ]
  },
  {
   "cell_type": "markdown",
   "id": "78959c55",
   "metadata": {},
   "source": [
    "2.You have a list of names. Create a new list which contains only the names\n",
    "with non-repeating characters.\n",
    "Sample input = [‘John’,’Peter’,’Meera’,’Mini’,’Krishna’]\n",
    "Sample output = [‘John’,Krishna]\n"
   ]
  },
  {
   "cell_type": "code",
   "execution_count": 2,
   "id": "a01ff4d3",
   "metadata": {},
   "outputs": [
    {
     "name": "stdout",
     "output_type": "stream",
     "text": [
      "['John', 'null', 'null', 'null', 'Krishna']\n",
      "None\n"
     ]
    }
   ],
   "source": [
    "Sample= ['John','Peter','Meera','Mini','Krishna']\n",
    "s1=Sample\n",
    "l=len(Sample)\n",
    "result=[]\n",
    "for i in range (0,l):\n",
    "    string =Sample[i];  \n",
    "    for j in range(0, len(string)):  \n",
    "        count = 1;  \n",
    "        for k in range(j+1, len(string)):  \n",
    "            if(string[j] == string[k] and string[j] != ' '):  \n",
    "                count = count + 1 \n",
    "                s1[i]=\"null\"\n",
    "print(s1)                \n",
    "print(s1.remove(\"null\"))\n"
   ]
  },
  {
   "cell_type": "markdown",
   "id": "3cad39f2",
   "metadata": {},
   "source": [
    "3.Take values of length and breadth of a rectangle from user and check if it\n",
    "is square or not.\n"
   ]
  },
  {
   "cell_type": "code",
   "execution_count": 3,
   "id": "076cf476",
   "metadata": {},
   "outputs": [
    {
     "name": "stdout",
     "output_type": "stream",
     "text": [
      "Enter the length:5\n",
      "Enter the breadth:5\n",
      "its a square\n"
     ]
    }
   ],
   "source": [
    "l=int(input(\"Enter the length:\"))\n",
    "b=int(input(\"Enter the breadth:\"))\n",
    "if l==b:\n",
    "    print(\"its a square\")\n",
    "else:\n",
    "    print(\"its not  a square\")"
   ]
  },
  {
   "cell_type": "markdown",
   "id": "04fc860a",
   "metadata": {},
   "source": [
    "4.A student will not be allowed to sit in exam if his/her attendance is less\n",
    "than 75%. Take following input from user Number of classes held\n",
    "Number of classes attended. And print percentage of class attended Is\n",
    "student is allowed to sit in exam or not."
   ]
  },
  {
   "cell_type": "code",
   "execution_count": 4,
   "id": "ab11a3b2",
   "metadata": {},
   "outputs": [
    {
     "name": "stdout",
     "output_type": "stream",
     "text": [
      "Enter number of class held:102\n",
      "Enter number of class attended:92\n",
      "Percentage of class attended is  90.19607843137256\n",
      "Student is allowed to sit in exam\n"
     ]
    }
   ],
   "source": [
    "CH=int(input(\"Enter number of class held:\"))\n",
    "CA=int(input(\"Enter number of class attended:\"))\n",
    "PCA=(CA/CH)*100\n",
    "print(\"Percentage of class attended is \",PCA)\n",
    "if PCA>75:\n",
    "    print(\"Student is allowed to sit in exam\")\n",
    "else:\n",
    "    print(\"Student is not allowed to sit in exam\")"
   ]
  },
  {
   "cell_type": "markdown",
   "id": "447e2f33",
   "metadata": {},
   "source": [
    "5. Create a list by taking length of the list and elements of the list from user.\n",
    "Then find the sum of the elements of the list. Also create a new called even\n",
    "list which contains only even numbers from first list and odd list which\n",
    "contains odd numbers from the list.\n",
    "Sample input:\n",
    "Length of the list = 5\n",
    "List1 = [2,6,3,1,5]\n",
    "Sum = 17\n",
    "Even_list=[2,6]\n",
    "Odd_list=[3,1,5]"
   ]
  },
  {
   "cell_type": "code",
   "execution_count": 5,
   "id": "b9943e3a",
   "metadata": {},
   "outputs": [
    {
     "name": "stdout",
     "output_type": "stream",
     "text": [
      "Enter number of elements : 5\n",
      "1\n",
      "2\n",
      "3\n",
      "4\n",
      "5\n",
      "list= [1, 2, 3, 4, 5]\n",
      "Sum of all elements in given list:  15\n",
      "Even numbers in the list:  [2, 4]\n",
      "Odd numbers in the list:  [1, 3, 5]\n"
     ]
    }
   ],
   "source": [
    "lst = []\n",
    "total=0\n",
    "n = int(input(\"Enter number of elements : \"))\n",
    "for i in range(0, n):\n",
    "\tele = int(input())\n",
    "\n",
    "\tlst.append(ele)\n",
    "\t\n",
    "print(\"list=\",lst)\n",
    "for ele in range(0, len(lst)):\n",
    "    total = total + lst[ele]\n",
    "print(\"Sum of all elements in given list: \", total)\n",
    "even_nos = [num for num in lst if num % 2 == 0]\n",
    "print(\"Even numbers in the list: \", even_nos)\n",
    "odd_nos = [num for num in lst if num % 2 != 0]\n",
    "print(\"Odd numbers in the list: \", odd_nos)"
   ]
  },
  {
   "cell_type": "markdown",
   "id": "5b3492f9",
   "metadata": {},
   "source": [
    "6.Create a sample chatbot for an ecommerce website."
   ]
  },
  {
   "cell_type": "code",
   "execution_count": null,
   "id": "94a08ae5",
   "metadata": {},
   "outputs": [
    {
     "name": "stdout",
     "output_type": "stream",
     "text": [
      "Hello! My name is Sbot.\n",
      "I was created in 2021.\n",
      "Please, remind me your name.\n",
      "anu\n",
      "What a great name you have, anu!\n",
      "Let me guess your age.\n",
      "Enter remainders of dividing your age by 3, 5 and 7.\n",
      "10\n",
      "2\n",
      "35\n",
      "Your age is 7; that's a good time to start programming!\n",
      "Now I will prove to you that I can count to any number you want.\n",
      "1\n",
      "0 !\n",
      "1 !\n",
      "Let's test your programming knowledge.\n",
      "Why do we use methods?\n",
      "1. To repeat a statement multiple times.\n",
      "2. To decompose a program into several small subroutines.\n",
      "3. To determine the execution time of a program.\n",
      "4. To interrupt the execution of a program.\n",
      "2\n",
      "Completed, have a nice day!\n",
      ".................................\n",
      ".................................\n",
      ".................................\n",
      "Congratulations, have a nice day!\n",
      ".................................\n",
      ".................................\n",
      ".................................\n"
     ]
    }
   ],
   "source": [
    "import bot.py"
   ]
  },
  {
   "cell_type": "markdown",
   "id": "f6364f19",
   "metadata": {},
   "source": [
    "7. Write a program to find the roots of a quadratic equation. Get the coefficients of quadratic equation ax^2+bx+c and display whether the roots are real and equal or real and distinct or roots are imaginary. You have to find the roots and display it as well. "
   ]
  },
  {
   "cell_type": "code",
   "execution_count": 1,
   "id": "5002b952",
   "metadata": {},
   "outputs": [
    {
     "name": "stdout",
     "output_type": "stream",
     "text": [
      "Enter coeffient a:2\n",
      "Enter coeffient b:3\n",
      "Enter coeffient c:5\n",
      "The solution are (-0.75-1.3919410907075054j) and (-0.75+1.3919410907075054j)\n"
     ]
    }
   ],
   "source": [
    "import cmath\n",
    "\n",
    "a = int(input(\"Enter coeffient a:\"))\n",
    "b = int(input(\"Enter coeffient b:\"))\n",
    "c = int(input(\"Enter coeffient c:\"))\n",
    "d = (b**2) - (4*a*c)\n",
    "sol1 = (-b-cmath.sqrt(d))/(2*a)\n",
    "sol2 = (-b+cmath.sqrt(d))/(2*a)\n",
    "\n",
    "print('The solution are {0} and {1}'.format(sol1,sol2))"
   ]
  },
  {
   "cell_type": "markdown",
   "id": "b186c2fc",
   "metadata": {},
   "source": [
    "8. Given a range of first 10 numbers, write a Python program to iterate from\n",
    "start number to the end number and print the sum of the current number and previous number.\n",
    "Sample input: 1….10\n",
    "Sample output: Current Number 1 Previous Number 0 Sum: 1\n",
    "Current Number 2 Previous Number 1 Sum: 3\n",
    "Current Number 3 Previous Number 2 Sum: 5…\n",
    "…….\n",
    "Current Number 10 Previous Number 9 Sum: 19\n"
   ]
  },
  {
   "cell_type": "code",
   "execution_count": 2,
   "id": "4b0f8783",
   "metadata": {},
   "outputs": [
    {
     "name": "stdout",
     "output_type": "stream",
     "text": [
      "Current Number 1 Previous Number 0 sum:1\n",
      "Current Number 2 Previous Number 1 sum:3\n",
      "Current Number 3 Previous Number 2 sum:5\n",
      "Current Number 4 Previous Number 3 sum:7\n",
      "Current Number 5 Previous Number 4 sum:9\n",
      "Current Number 6 Previous Number 5 sum:11\n",
      "Current Number 7 Previous Number 6 sum:13\n",
      "Current Number 8 Previous Number 7 sum:15\n",
      "Current Number 9 Previous Number 8 sum:17\n",
      "Current Number 10 Previous Number 9 sum:19\n"
     ]
    }
   ],
   "source": [
    "num = list(range(10))\n",
    "previousNum = 0\n",
    "for i in num:\n",
    "    sum = previousNum + i+1\n",
    "    print('Current Number '+ str(i+1) + ' Previous Number ' + str(previousNum) + ' sum:' + str(sum)) \n",
    "    previousNum=i+1"
   ]
  },
  {
   "cell_type": "markdown",
   "id": "4af40558",
   "metadata": {},
   "source": [
    "9.Write a Python program to find the prime numbers in a given range. Get the range from user and print prime numbers in that range."
   ]
  },
  {
   "cell_type": "code",
   "execution_count": 3,
   "id": "9b84dfcd",
   "metadata": {},
   "outputs": [
    {
     "name": "stdout",
     "output_type": "stream",
     "text": [
      "Enter the range of prime numbers:5\n",
      "2\n",
      "3\n",
      "5\n"
     ]
    }
   ],
   "source": [
    "r=int(input(\"Enter the range of prime numbers:\"))\n",
    "for a in range(2,r+1):\n",
    "    k=0\n",
    "    for i in range(2,a//2+1):\n",
    "        if(a%i==0):\n",
    "            k=k+1\n",
    "    if(k<=0):\n",
    "        print(a)"
   ]
  },
  {
   "cell_type": "markdown",
   "id": "b0820ab2",
   "metadata": {},
   "source": [
    "10.Write a Python program to print Fibonacci series in a given range. Get the range from user and print fibonacci numbers in that range."
   ]
  },
  {
   "cell_type": "code",
   "execution_count": 4,
   "id": "9dfa2d02",
   "metadata": {},
   "outputs": [
    {
     "name": "stdout",
     "output_type": "stream",
     "text": [
      "How many terms? 5\n",
      "Fibonacci sequence:\n",
      "0\n",
      "1\n",
      "1\n",
      "2\n",
      "3\n"
     ]
    }
   ],
   "source": [
    "nterms = int(input(\"How many terms? \"))\n",
    "n1, n2 = 0, 1\n",
    "count = 0\n",
    "if nterms <= 0:\n",
    "   print(\"Please enter a positive integer\")\n",
    "elif nterms == 1:\n",
    "   print(\"Fibonacci sequence upto\",nterms,\":\")\n",
    "   print(n1)\n",
    "else:\n",
    "   print(\"Fibonacci sequence:\")\n",
    "   while count < nterms:\n",
    "       print(n1)\n",
    "       nth = n1 + n2\n",
    "       n1 = n2\n",
    "       n2 = nth\n",
    "       count += 1"
   ]
  },
  {
   "cell_type": "code",
   "execution_count": null,
   "id": "0fbf7d98",
   "metadata": {},
   "outputs": [],
   "source": []
  }
 ],
 "metadata": {
  "kernelspec": {
   "display_name": "Python 3 (ipykernel)",
   "language": "python",
   "name": "python3"
  },
  "language_info": {
   "codemirror_mode": {
    "name": "ipython",
    "version": 3
   },
   "file_extension": ".py",
   "mimetype": "text/x-python",
   "name": "python",
   "nbconvert_exporter": "python",
   "pygments_lexer": "ipython3",
   "version": "3.9.13"
  }
 },
 "nbformat": 4,
 "nbformat_minor": 5
}
