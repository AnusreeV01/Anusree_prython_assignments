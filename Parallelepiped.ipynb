{
 "cells": [
  {
   "cell_type": "code",
   "execution_count": 87,
   "id": "7bf9c10d",
   "metadata": {},
   "outputs": [
    {
     "name": "stdout",
     "output_type": "stream",
     "text": [
      "Perimeter of rectangle= 10\n",
      "Area of rectangle= 4\n",
      "volume of the Parallelepiped= 12\n"
     ]
    }
   ],
   "source": [
    "import rectangle\n",
    "from rectangle import Rectangle\n",
    "class Parallelepiped(Rectangle):\n",
    "    def __init__(self,height):\n",
    "        self.height=height\n",
    "    def vol(self):\n",
    "        v=self.height\n",
    "        return v\n",
    "r=rectangle.Rectangle(1,4)\n",
    "v=Parallelepiped(3)\n",
    "print(\"Perimeter of rectangle=\",r.perimeter())\n",
    "print(\"Area of rectangle=\",r.area())\n",
    "print(\"volume of the Parallelepiped=\",r.area()*v.vol())\n"
   ]
  },
  {
   "cell_type": "code",
   "execution_count": null,
   "id": "c211512f",
   "metadata": {},
   "outputs": [],
   "source": []
  }
 ],
 "metadata": {
  "kernelspec": {
   "display_name": "Python 3 (ipykernel)",
   "language": "python",
   "name": "python3"
  },
  "language_info": {
   "codemirror_mode": {
    "name": "ipython",
    "version": 3
   },
   "file_extension": ".py",
   "mimetype": "text/x-python",
   "name": "python",
   "nbconvert_exporter": "python",
   "pygments_lexer": "ipython3",
   "version": "3.9.13"
  }
 },
 "nbformat": 4,
 "nbformat_minor": 5
}
