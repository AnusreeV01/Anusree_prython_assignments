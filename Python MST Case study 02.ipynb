{
 "cells": [
  {
   "cell_type": "markdown",
   "id": "8ca55d6d",
   "metadata": {},
   "source": [
    "1.Write a Python function to sum all the numbers in a list. (Create a list and get list elements from user)"
   ]
  },
  {
   "cell_type": "code",
   "execution_count": 1,
   "id": "ce371b34",
   "metadata": {},
   "outputs": [
    {
     "name": "stdout",
     "output_type": "stream",
     "text": [
      "Enter number of elements in list and then numbers in new lines:4\n",
      "1\n",
      "2\n",
      "3\n",
      "4\n",
      "[1, 2, 3, 4]\n",
      "sum of numbers in the list= 10\n"
     ]
    }
   ],
   "source": [
    "n = int (input (\"Enter number of elements in list and then numbers in new lines:\")) \n",
    "list = []\n",
    "for i in range (n):\n",
    "    # Take input of ith element as x.\n",
    "    x = int(input())\n",
    "    # Append 'x' to the list.\n",
    "    list.append(x)\n",
    "print(list)\n",
    "def sum(numbers):\n",
    "    total = 0\n",
    "    for x in numbers:\n",
    "        total += x\n",
    "    return total\n",
    "print(\"sum of numbers in the list=\",sum(list))"
   ]
  },
  {
   "cell_type": "markdown",
   "id": "d012f5c6",
   "metadata": {},
   "source": [
    "2.Write a Python function that checks whether a passed string is palindrome or not."
   ]
  },
  {
   "cell_type": "code",
   "execution_count": 10,
   "id": "ceb70a0e",
   "metadata": {},
   "outputs": [
    {
     "name": "stdout",
     "output_type": "stream",
     "text": [
      "Enter string: Malayalam\n"
     ]
    },
    {
     "data": {
      "text/plain": [
       "'The string is a palindrome.'"
      ]
     },
     "execution_count": 10,
     "metadata": {},
     "output_type": "execute_result"
    }
   ],
   "source": [
    "def isPalindrome(string):\n",
    "    string=string.lower()\n",
    "    if (string == string[::-1]) :\n",
    "        return \"The string is a palindrome.\"\n",
    "    else:\n",
    "        return \"The string is not a palindrome.\"\n",
    "string = input (\"Enter string: \")\n",
    "isPalindrome(string)"
   ]
  },
  {
   "cell_type": "markdown",
   "id": "b3ceeab6",
   "metadata": {},
   "source": [
    "3.Write a Python recursive function to find the Fibonacci series. Get the limit from the use"
   ]
  },
  {
   "cell_type": "code",
   "execution_count": 1,
   "id": "72ccef2d",
   "metadata": {},
   "outputs": [
    {
     "name": "stdout",
     "output_type": "stream",
     "text": [
      "Enter number of terms:5\n",
      "Fibonacci sequence:\n",
      "0\n",
      "1\n",
      "1\n",
      "2\n",
      "3\n"
     ]
    }
   ],
   "source": [
    "def fibonacci(n):\n",
    "    if(n <= 1):\n",
    "        return n\n",
    "    else:\n",
    "        return(fibonacci(n-1) + fibonacci(n-2))\n",
    "n = int(input(\"Enter number of terms:\"))\n",
    "print(\"Fibonacci sequence:\")\n",
    "for i in range(n):\n",
    "    print(fibonacci(i))"
   ]
  },
  {
   "cell_type": "markdown",
   "id": "21966d28",
   "metadata": {},
   "source": [
    "4.Write a Python recursive function to print the multiplication table of given number"
   ]
  },
  {
   "cell_type": "code",
   "execution_count": 4,
   "id": "a04e7b25",
   "metadata": {},
   "outputs": [
    {
     "name": "stdout",
     "output_type": "stream",
     "text": [
      "Enter any Number  :5\n",
      "5  *  1  =  5\n",
      "5  *  2  =  10\n",
      "5  *  3  =  15\n",
      "5  *  4  =  20\n",
      "5  *  5  =  25\n",
      "5  *  6  =  30\n",
      "5  *  7  =  35\n",
      "5  *  8  =  40\n",
      "5  *  9  =  45\n",
      "5  *  10  =  50\n"
     ]
    }
   ],
   "source": [
    "def rec_mul(num,count):\n",
    "    if( count < 11):\n",
    "        print(num,\" * \",count,\" = \",num * count)\n",
    "        return rec_mul(num,count + 1)\n",
    "    else:\n",
    "        return \n",
    "n = int(input(\"Enter any Number  :\"));\n",
    "rec_mul(n,1)"
   ]
  },
  {
   "cell_type": "markdown",
   "id": "275c07cb",
   "metadata": {},
   "source": [
    "5.Define a function which counts vowels and consonant in a word"
   ]
  },
  {
   "cell_type": "code",
   "execution_count": 31,
   "id": "062f5d32",
   "metadata": {},
   "outputs": [
    {
     "name": "stdout",
     "output_type": "stream",
     "text": [
      "Please Enter Your Own String : anusree\n",
      "Total Number of Vowels in this String =  4\n",
      "Total Number of Consonants in this String =  3\n"
     ]
    }
   ],
   "source": [
    "def fun_v_c(str1):\n",
    "    vowels = 0\n",
    "    consonants = 0\n",
    "    for i in str1:\n",
    "        if(i == 'a' or i == 'e' or i == 'i' or i == 'o' or i == 'u'\n",
    "        or i == 'A' or i == 'E' or i == 'I' or i == 'O' or i == 'U'):\n",
    "            vowels = vowels + 1\n",
    "        else:\n",
    "            consonants = consonants + 1\n",
    "    print(\"Total Number of Vowels in this String = \", vowels)\n",
    "    print(\"Total Number of Consonants in this String = \", consonants)\n",
    "str1 = input(\"Please Enter Your Own String : \")\n",
    "fun_v_c(str1)"
   ]
  },
  {
   "cell_type": "markdown",
   "id": "bcce625e",
   "metadata": {},
   "source": [
    "6.Define a function that accepts lowercase words and returns uppercase words."
   ]
  },
  {
   "cell_type": "code",
   "execution_count": 33,
   "id": "3bfb49be",
   "metadata": {},
   "outputs": [
    {
     "name": "stdout",
     "output_type": "stream",
     "text": [
      "enter a word in lowercase:english\n"
     ]
    },
    {
     "data": {
      "text/plain": [
       "'ENGLISH'"
      ]
     },
     "execution_count": 33,
     "metadata": {},
     "output_type": "execute_result"
    }
   ],
   "source": [
    "def low_upp(string):\n",
    "    string=string.upper()\n",
    "    return(string)\n",
    "string=input(\"enter a word in lowercase:\")\n",
    "low_upp(string)"
   ]
  },
  {
   "cell_type": "markdown",
   "id": "d3602dd2",
   "metadata": {},
   "source": [
    "7.Write a Python program to remove ‘None’ values from a given list using the lambda function.\n",
    "Given input = [12, 0, None, 23, None, -55, 234, 89, None, 0, 6, -12]\n",
    "Expected output = [12, 0, 23, -55, 234, 89, 0, 6, -12]"
   ]
  },
  {
   "cell_type": "code",
   "execution_count": 34,
   "id": "b77e602f",
   "metadata": {},
   "outputs": [
    {
     "name": "stdout",
     "output_type": "stream",
     "text": [
      "[12, 0, 23, -55, 234, 89, 0, 6, -12]\n"
     ]
    }
   ],
   "source": [
    "l1 = [12, 0, None, 23, None, -55, 234, 89, None, 0, 6, -12] \n",
    "final_li=list(filter(lambda x:(x!=None),l1))\n",
    "print(final_li)"
   ]
  },
  {
   "cell_type": "markdown",
   "id": "374745d4",
   "metadata": {},
   "source": [
    "8.Write a Rectangle class in Python language, allowing you to build a \n",
    "rectangle with length and width attributes.\n",
    "a. Create a Perimeter() method to calculate the perimeter of the \n",
    "rectangle and a Area() method to calculate the area of the rectangle.\n",
    "b. Create a method display() that display the length, width, perimeter \n",
    "and area of an object created using an instantiation on rectangle \n",
    "class.\n",
    "c. Create a Parallelepiped child class inheriting from the Rectangle \n",
    "class and with a height attribute and another Volume() method to \n",
    "calculate the volume of the Parallelepiped"
   ]
  },
  {
   "cell_type": "code",
   "execution_count": 17,
   "id": "eeed1059",
   "metadata": {},
   "outputs": [
    {
     "name": "stdout",
     "output_type": "stream",
     "text": [
      "Length of rectangle= 4\n",
      "Width of rectangle= 2\n",
      "Perimeter of rectangle= 12\n",
      "Area of rectangle= 8\n",
      "volume of the Parallelepiped= 24\n"
     ]
    }
   ],
   "source": [
    "class rectangle:\n",
    "    def __init__(self,length,width):\n",
    "        self.length=length\n",
    "        self.width=width\n",
    "    def perimeter(self):\n",
    "        self.p=2*(self.length+self.width)\n",
    "        return self.p\n",
    "    def area(self):\n",
    "        self.a=self.length*self.width\n",
    "        return self.a\n",
    "    def display(self):\n",
    "        print(\"Length of rectangle=\",self.length)\n",
    "        print(\"Width of rectangle=\",self.width)\n",
    "        print(\"Perimeter of rectangle=\",self.perimeter())\n",
    "        print(\"Area of rectangle=\",self.area())\n",
    "        \n",
    "class Parallelepipede(rectangle):\n",
    "    def __init__(self, length, width , height):\n",
    "        rectangle.__init__(self, length, width)\n",
    "        self.height = height\n",
    "    def volume(self):\n",
    "        print(\"volume of the Parallelepiped=\",self.length*self.width*self.height)\n",
    "    \n",
    "r=rectangle(4,2)\n",
    "r.display()\n",
    "s=Parallelepipede(4,2,3)\n",
    "s.volume()\n",
    "    "
   ]
  },
  {
   "cell_type": "markdown",
   "id": "23544670",
   "metadata": {},
   "source": [
    "9.Create a Python class called BankAccount which represents a bank \n",
    "account, having as attributes: accountNumber (numeric type), name \n",
    "(name of the account owner as string type), balance.\n",
    "a. Create a constructor with parameters: accountNumber, name, \n",
    "balance.\n",
    "b. Create a Deposit() method which manages the deposit actions.\n",
    "c. Create a Withdrawal() method which manages withdrawals \n",
    "actions.\n",
    "d. Create an bankFees() method to apply the bank fees with a \n",
    "percentage of 5% of the balance account.\n",
    "e. Create a display() method to display account details.\n",
    "f. Give the complete code for the BankAccount class."
   ]
  },
  {
   "cell_type": "code",
   "execution_count": 20,
   "id": "e8151696",
   "metadata": {},
   "outputs": [
    {
     "name": "stdout",
     "output_type": "stream",
     "text": [
      "Account Number :  2178514584\n",
      "Account Name :  Aysha\n",
      "Account Balance :  3600  Rupee\n"
     ]
    }
   ],
   "source": [
    "class BankAccount:\n",
    "    \n",
    "    def __init__(self,accountNumber, name, balance):\n",
    "        self.accountNumber = accountNumber\n",
    "        self.name = name\n",
    "        self.balance = balance\n",
    "        \n",
    "    def Deposit(self , d ):\n",
    "        self.balance = self.balance + d\n",
    "    \n",
    "    def Withdrawal(self , w):\n",
    "        if(self.balance < w):\n",
    "            print(\"impossible operation! Insufficient balance !\")\n",
    "        else:\n",
    "            self.balance = self.balance - w\n",
    "    \n",
    "    def bankFees(self):\n",
    "        self.balance = (95/100)*self.balance\n",
    "        \n",
    "    \n",
    "    def display(self):\n",
    "        print(\"Account Number : \" , self.accountNumber)\n",
    "        print(\"Account Name : \" , self.name)\n",
    "        print(\"Account Balance : \" , self.balance , \" Rupee\")\n",
    "        \n",
    "newAccount = BankAccount(2178514584, \"Aysha\" , 3500)\n",
    "newAccount.Withdrawal(100)\n",
    "newAccount.Deposit(200)\n",
    "newAccount.display()"
   ]
  },
  {
   "cell_type": "markdown",
   "id": "4e19b487",
   "metadata": {},
   "source": [
    "10.Create a base class rectangle with attributes length and breadth, methods \n",
    "area and perimeter. \n",
    "a. Save the rectangle class as a python file rectangle.py file. \n",
    "b. Open another python script and import the rectangle.py file. \n",
    "c. In the newly created script derive a child class called Parallelepiped \n",
    "class inheriting from the Rectangle class and with a height attribute \n",
    "and another Volume() method to calculate the volume of the \n",
    "Parallelepiped. \n",
    "d. Now create objects for parent class and child class in newly created \n",
    "script and access methods of parent class and child class. \n",
    "(Upload the rectangle.py file and python script of question 10 as \n",
    "separate files in github and share the link Paatshala"
   ]
  }
 ],
 "metadata": {
  "kernelspec": {
   "display_name": "Python 3 (ipykernel)",
   "language": "python",
   "name": "python3"
  },
  "language_info": {
   "codemirror_mode": {
    "name": "ipython",
    "version": 3
   },
   "file_extension": ".py",
   "mimetype": "text/x-python",
   "name": "python",
   "nbconvert_exporter": "python",
   "pygments_lexer": "ipython3",
   "version": "3.9.13"
  }
 },
 "nbformat": 4,
 "nbformat_minor": 5
}
