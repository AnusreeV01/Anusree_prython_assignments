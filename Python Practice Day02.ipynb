{
 "cells": [
  {
   "cell_type": "markdown",
   "id": "2e80ec86",
   "metadata": {},
   "source": [
    "# Python Practice Day02"
   ]
  },
  {
   "cell_type": "markdown",
   "id": "a06d2c69",
   "metadata": {},
   "source": [
    "# 1"
   ]
  },
  {
   "cell_type": "code",
   "execution_count": 1,
   "id": "ca5f0457",
   "metadata": {},
   "outputs": [
    {
     "name": "stdout",
     "output_type": "stream",
     "text": [
      "Enter the roll number:Anisha\n",
      "Enter the roll number:21\n",
      "Enter the mark:78\n",
      "Name: Anisha\n",
      "Roll No: 21\n",
      "Mark: 78\n"
     ]
    }
   ],
   "source": [
    "a=input('Enter the roll number:')\n",
    "b=int(input('Enter the roll number:'))\n",
    "c=int(input('Enter the mark:'))\n",
    "print('Name:',a)\n",
    "print('Roll No:',b)\n",
    "print('Mark:',c)"
   ]
  },
  {
   "cell_type": "markdown",
   "id": "7d8ed976",
   "metadata": {},
   "source": [
    "# 2"
   ]
  },
  {
   "cell_type": "code",
   "execution_count": 2,
   "id": "e38f5772",
   "metadata": {},
   "outputs": [
    {
     "name": "stdout",
     "output_type": "stream",
     "text": [
      "Enter Temperature in Fahrenheit=41\n",
      "Temperature in Celsius= 5.0\n"
     ]
    }
   ],
   "source": [
    "f=float(input('Enter Temperature in Fahrenheit='))\n",
    "c=((f-32)/9)*5\n",
    "print(\"Temperature in Celsius=\",c)\n"
   ]
  },
  {
   "cell_type": "markdown",
   "id": "9474975a",
   "metadata": {},
   "source": [
    "# 3"
   ]
  },
  {
   "cell_type": "code",
   "execution_count": 3,
   "id": "ec5d025e",
   "metadata": {},
   "outputs": [
    {
     "name": "stdout",
     "output_type": "stream",
     "text": [
      "Enter first  number:5\n",
      "Enter second number:6\n",
      "Product of the numbers entered= 30\n"
     ]
    }
   ],
   "source": [
    "a=int(input('Enter first  number:'))\n",
    "b=int(input('Enter second number:'))\n",
    "c=a*b\n",
    "print('Product of the numbers entered=',c)"
   ]
  },
  {
   "cell_type": "markdown",
   "id": "d6a8e214",
   "metadata": {},
   "source": [
    "# 4"
   ]
  },
  {
   "cell_type": "code",
   "execution_count": 27,
   "id": "5e91ba6a",
   "metadata": {},
   "outputs": [
    {
     "name": "stdout",
     "output_type": "stream",
     "text": [
      "Learn**Python**by Developing a**Website**\n"
     ]
    }
   ],
   "source": [
    "a='Learn Python by Developing a Website'\n",
    "l1=a.split()\n",
    "#print(l1)\n",
    "l1.insert(1,'**')\n",
    "l1.insert(3,'**')\n",
    "l1.insert(7,'**')\n",
    "l1.insert(9,'**')\n",
    "#l1\n",
    "a=l1[0]+l1[1]+l1[2]+l1[3]+l1[4]+' '+l1[5]+ ' '+l1[6]+l1[7]+l1[8]+l1[9]\n",
    "print(a)"
   ]
  },
  {
   "cell_type": "markdown",
   "id": "d2f8a3e3",
   "metadata": {},
   "source": [
    "# 5"
   ]
  },
  {
   "cell_type": "code",
   "execution_count": 5,
   "id": "8cf996bb",
   "metadata": {},
   "outputs": [
    {
     "name": "stdout",
     "output_type": "stream",
     "text": [
      "Enter the radius of a circle:3\n",
      "Area of the circle= 28.274333882308138\n"
     ]
    }
   ],
   "source": [
    "import math\n",
    "r=float(input('Enter the radius of a circle:'))\n",
    "a=math.pi*r*r\n",
    "print('Area of the circle=',a)\n"
   ]
  },
  {
   "cell_type": "markdown",
   "id": "81c3ad2f",
   "metadata": {},
   "source": [
    "# 6"
   ]
  },
  {
   "cell_type": "code",
   "execution_count": 6,
   "id": "2b4f8101",
   "metadata": {},
   "outputs": [
    {
     "name": "stdout",
     "output_type": "stream",
     "text": [
      "Enter the number to be inserted in the list of 6 numbers:10\n",
      "Enter the position in which number has to insert:4\n"
     ]
    },
    {
     "data": {
      "text/plain": [
       "[1, 5, 6, 7, 10, 8, 9]"
      ]
     },
     "execution_count": 6,
     "metadata": {},
     "output_type": "execute_result"
    }
   ],
   "source": [
    "L=[1,5,6,7,8,9]\n",
    "a=int(input('Enter the number to be inserted in the list of 6 numbers:'))\n",
    "b=int(input('Enter the position in which number has to insert:'))\n",
    "L.insert(b,a)\n",
    "L"
   ]
  },
  {
   "cell_type": "markdown",
   "id": "bb0eacee",
   "metadata": {},
   "source": [
    "# 7"
   ]
  },
  {
   "cell_type": "code",
   "execution_count": 7,
   "id": "65d9e685",
   "metadata": {},
   "outputs": [
    {
     "data": {
      "text/plain": [
       "{'name': 'John', 'age': 5, 'salary': 8000, 'location': 'New York'}"
      ]
     },
     "execution_count": 7,
     "metadata": {},
     "output_type": "execute_result"
    }
   ],
   "source": [
    "sample_dict= { \"name\": \"John\", \"age\":5, \"salary\": 8000, \"city\": \"New York\"}\n",
    "sample_dict['location']=sample_dict['city']\n",
    "del sample_dict['city']\n",
    "sample_dict"
   ]
  },
  {
   "cell_type": "markdown",
   "id": "776898fd",
   "metadata": {},
   "source": [
    "# 8"
   ]
  },
  {
   "cell_type": "code",
   "execution_count": 8,
   "id": "54cd5ad2",
   "metadata": {},
   "outputs": [
    {
     "name": "stdout",
     "output_type": "stream",
     "text": [
      "{'emp1': {'name': 'John', 'salary': 7500}, 'emp2': {'name': 'Emma', 'salary': 8000}, 'emp3': {'name': 'Brad', 'salary': 8500}}\n"
     ]
    }
   ],
   "source": [
    "sample_dict= {'emp1': {'name': 'John', 'salary': 7500},\n",
    "               'emp2': {'name': 'Emma', 'salary': 8000},\n",
    "               'emp3': {'name': 'Brad', 'salary': 500}}\n",
    "sample_dict['emp3']['salary'] = 8500\n",
    "print(sample_dict)"
   ]
  },
  {
   "cell_type": "markdown",
   "id": "87701e90",
   "metadata": {},
   "source": [
    "# 9"
   ]
  },
  {
   "cell_type": "code",
   "execution_count": 9,
   "id": "f2c25dcd",
   "metadata": {},
   "outputs": [
    {
     "data": {
      "text/plain": [
       "(43, 54)"
      ]
     },
     "execution_count": 9,
     "metadata": {},
     "output_type": "execute_result"
    }
   ],
   "source": [
    "tuple1 = (10, 20, 43, 54, 56, 68)\n",
    "tuple2=(tuple1[2],tuple1[3])\n",
    "tuple2"
   ]
  },
  {
   "cell_type": "markdown",
   "id": "36d1b14a",
   "metadata": {},
   "source": [
    "# 10"
   ]
  },
  {
   "cell_type": "code",
   "execution_count": 10,
   "id": "c3825589",
   "metadata": {},
   "outputs": [
    {
     "data": {
      "text/plain": [
       "3"
      ]
     },
     "execution_count": 10,
     "metadata": {},
     "output_type": "execute_result"
    }
   ],
   "source": [
    "tuple1 = (50, 10, 60, 70, 50,83,567,50,81)\n",
    "tuple1.count(50)"
   ]
  },
  {
   "cell_type": "code",
   "execution_count": null,
   "id": "7b86a238",
   "metadata": {},
   "outputs": [],
   "source": []
  }
 ],
 "metadata": {
  "kernelspec": {
   "display_name": "Python 3 (ipykernel)",
   "language": "python",
   "name": "python3"
  },
  "language_info": {
   "codemirror_mode": {
    "name": "ipython",
    "version": 3
   },
   "file_extension": ".py",
   "mimetype": "text/x-python",
   "name": "python",
   "nbconvert_exporter": "python",
   "pygments_lexer": "ipython3",
   "version": "3.9.13"
  }
 },
 "nbformat": 4,
 "nbformat_minor": 5
}
